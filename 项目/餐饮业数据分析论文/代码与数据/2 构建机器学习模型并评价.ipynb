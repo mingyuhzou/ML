{
 "cells": [
  {
   "cell_type": "code",
   "execution_count": 1,
   "metadata": {},
   "outputs": [],
   "source": [
    "import pandas as pd\n",
    "from sklearn.model_selection import train_test_split\n",
    "from sklearn.tree import DecisionTreeClassifier as DTC\n",
    "from sklearn.metrics import confusion_matrix\n",
    "inputfile0 = 'user_loss.csv'  # 客户信息数据文件\n",
    "inputfile1 = 'info_new.csv'  # 订单表数据文件\n",
    "outputfile = 'info_user.csv'  # 合并客户信息和订单表后的数据文件\n",
    "\n",
    "# 合并两个表\n",
    "# 读取数据\n",
    "user_loss = pd.read_csv(inputfile0, encoding='gbk')\n",
    "info_new = pd.read_csv(inputfile1) \n",
    "# 将时间转为时间格式\n",
    "user_loss['CREATED'] = pd.to_datetime(user_loss['CREATED'])\n",
    "info_new['use_start_time'] = pd.to_datetime(info_new['use_start_time'])\n",
    "info_new['lock_time'] = pd.to_datetime(info_new['lock_time'])\n",
    "\n",
    "# 匹配用户的最后一次用餐时间\n",
    "for i in range(len(user_loss)):\n",
    "    info1 = info_new.iloc[info_new[info_new['name']==user_loss.iloc[i,2]].index.tolist(),:]\n",
    "    if sum(info_new['name']==user_loss.iloc[i,2]) != 0:\n",
    "        user_loss.iloc[i,14]= max(info1['use_start_time'])\n",
    "\n",
    "# 筛选特征\n",
    "user = user_loss.iloc[:,[0,2,14,37]]\n",
    "# 提取有效订单\n",
    "info = info_new.loc[info_new['order_status'] == 1,['emp_id', 'number_consumers', 'expenditure']]  \n",
    "\n",
    "info = info.rename(columns = {'emp_id':'USER_ID'})  # 修改列名\n",
    "# 合并两个表\n",
    "info_user = pd.merge(user, info,left_on = 'USER_ID',right_on = 'USER_ID', how='left')\n",
    "info_user.to_csv(outputfile , index=False,sep=',')"
   ]
  },
  {
   "cell_type": "code",
   "execution_count": 2,
   "metadata": {},
   "outputs": [],
   "source": [
    "inputfile = 'info_user.csv'  # 合并客户信息和订单表后的数据文件\n",
    "outputfile = 'info_user_clear.csv'  # 客户流失特征数据文件\n",
    "# 构建特征\n",
    "info_user = pd.read_csv(inputfile , encoding='utf-8')\n",
    "\n",
    "# 提取info表的用户名和用餐时间，并按人名对用餐人数和金额进行分组求和\n",
    "info_user1 = info_user['USER_ID'].value_counts()  # 统计每个人的用餐次数\n",
    "info_user1 = info_user1.reset_index()\n",
    "info_user1.columns = ['USER_ID', 'frequence']  # 修改列名\n",
    "\n",
    "# 求出每个人的消费总金额\n",
    "info_user2 = info_user[['number_consumers', 'expenditure']].groupby(info_user['USER_ID']).sum()  # 分组求和\n",
    "info_user2 = info_user2.reset_index()\n",
    "info_user2.columns = ['USER_ID', 'numbers', 'amount']\n",
    "info_user_new = pd.merge(info_user1,info_user2,left_on='USER_ID', right_on='USER_ID', how='left')  # 合并两个表\n",
    "\n",
    "# 对合并后的数据进行处理\n",
    "info_user = info_user.iloc[:,:4]\n",
    "info_user = info_user.groupby(['USER_ID']).last()\n",
    "info_user = info_user.reset_index()\n",
    "info_user_new = pd.merge(info_user_new,info_user,left_on='USER_ID', right_on='USER_ID', how='left')  # 合并两个表\n",
    "\n",
    "# 去除空值\n",
    "info_user_new.isnull().sum().sum()  # 查看空值数目\n",
    "info_user_new = info_user_new.dropna(axis=0)\n",
    "info_user_new = info_user_new[info_user_new[\"numbers\"] != 0]  # 删除numbers为0的客户\n",
    "\n",
    "# 求平均消费金额，并保留2为小数\n",
    "info_user_new['average'] = info_user_new['amount']/info_user_new['numbers']\n",
    "info_user_new['average'] = info_user_new['average'].apply(lambda x: '%.2f'% x)\n",
    "\n",
    "# 计算每个客户最近一次点餐的时间距离观测窗口结束的天数\n",
    "# 修改时间列，改为日期\n",
    "\n",
    "info_user_new['LAST_VISITS'] = pd.to_datetime(info_user_new['LAST_VISITS'])\n",
    "datefinally = pd.to_datetime('2016-7-31')  # 观测窗口结束时间\n",
    "time = datefinally - info_user_new['LAST_VISITS']\n",
    "info_user_new['recently'] = time.apply(lambda x: x.days)   # 计算时间差\n",
    "\n",
    "info_user_new = info_user_new.loc[:,['USER_ID', 'ACCOUNT', 'frequence', 'amount', 'average','recently', 'type']]  # 筛选属性\n",
    "info_user_new.to_csv(outputfile , index=False, encoding='gbk')"
   ]
  },
  {
   "cell_type": "code",
   "execution_count": 3,
   "metadata": {},
   "outputs": [
    {
     "data": {
      "text/plain": [
       "0.8343815513626834"
      ]
     },
     "execution_count": 3,
     "metadata": {},
     "output_type": "execute_result"
    }
   ],
   "source": [
    "# 划分测试集、训练集\n",
    "info_user = pd.read_csv('info_user_clear.csv', encoding='gbk')\n",
    "from sklearn.preprocessing import LabelEncoder\n",
    "\n",
    "# 创建LabelEncoder实例\n",
    "le = LabelEncoder()\n",
    "\n",
    "# 对'流失状态'列进行编码，将\"流失\"映射为1，\"非流失\"映射为2，准流失为0\n",
    "info_user['type'] = le.fit_transform(info_user['type'])\n",
    "# 删除流失用户\n",
    "info_user = info_user[info_user['type'] != '1']\n",
    "\n",
    "model_data = info_user.iloc[:,[2,3,4,5,6]]\n",
    "\n",
    "x_tr, x_te, y_tr, y_te = train_test_split(model_data.iloc[:,:-1], model_data['type'], test_size=0.2, random_state=12345)\n",
    "\n",
    "dtc = DTC()  # 初始化决策树对象，基于信息熵\n",
    "dtc.fit(x_tr,y_tr)  # 训练模型\n",
    "pre = dtc.predict(x_te)\n",
    "sum(pre == y_te)/len(pre)"
   ]
  },
  {
   "cell_type": "code",
   "execution_count": 4,
   "metadata": {},
   "outputs": [
    {
     "data": {
      "text/plain": [
       "0.7190775681341719"
      ]
     },
     "execution_count": 4,
     "metadata": {},
     "output_type": "execute_result"
    }
   ],
   "source": [
    "from sklearn.ensemble import RandomForestRegressor\n",
    "\n",
    "random_forest_model = RandomForestRegressor(n_estimators=3, random_state=42)\n",
    "random_forest_model.fit(x_tr,y_tr)\n",
    "pre2 = random_forest_model.predict(x_te)\n",
    "sum(pre2 == y_te)/len(pre)"
   ]
  },
  {
   "cell_type": "code",
   "execution_count": 5,
   "metadata": {},
   "outputs": [
    {
     "data": {
      "text/plain": [
       "0.7358490566037735"
      ]
     },
     "execution_count": 5,
     "metadata": {},
     "output_type": "execute_result"
    }
   ],
   "source": [
    "from sklearn.svm import SVC\n",
    "\n",
    "svc=SVC(random_state=42)\n",
    "svc.fit(x_tr,y_tr)\n",
    "pre3 = svc.predict(x_te)\n",
    "sum(pre3 == y_te)/len(pre)"
   ]
  },
  {
   "cell_type": "code",
   "execution_count": 6,
   "metadata": {},
   "outputs": [
    {
     "data": {
      "text/plain": [
       "0.8448637316561844"
      ]
     },
     "execution_count": 6,
     "metadata": {},
     "output_type": "execute_result"
    }
   ],
   "source": [
    "from sklearn.neighbors import KNeighborsClassifier\n",
    "\n",
    "\n",
    "knn = KNeighborsClassifier(n_neighbors=5, weights='uniform', algorithm='auto')\n",
    "knn.fit(x_tr,y_tr)\n",
    "pre4 = knn.predict(x_te)\n",
    "sum(pre4 == y_te)/len(pre)"
   ]
  }
 ],
 "metadata": {
  "kernelspec": {
   "display_name": "Python 3",
   "language": "python",
   "name": "python3"
  },
  "language_info": {
   "codemirror_mode": {
    "name": "ipython",
    "version": 3
   },
   "file_extension": ".py",
   "mimetype": "text/x-python",
   "name": "python",
   "nbconvert_exporter": "python",
   "pygments_lexer": "ipython3",
   "version": "3.8.8"
  }
 },
 "nbformat": 4,
 "nbformat_minor": 4
}
