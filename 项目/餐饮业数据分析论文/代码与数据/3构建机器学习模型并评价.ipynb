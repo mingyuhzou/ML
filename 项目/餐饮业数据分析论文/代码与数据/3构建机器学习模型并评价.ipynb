{
 "cells": [
  {
   "cell_type": "code",
   "execution_count": 9,
   "metadata": {},
   "outputs": [],
   "source": [
    "import pandas as pd\n",
    "from sklearn.model_selection import train_test_split\n",
    "from sklearn.tree import DecisionTreeClassifier as DTC\n",
    "from sklearn.metrics import confusion_matrix\n",
    "from sklearn.preprocessing import LabelEncoder\n",
    "from sklearn.model_selection import train_test_split\n",
    "from sklearn.tree import DecisionTreeClassifier\n",
    "from sklearn.metrics import accuracy_score, classification_report, confusion_matrix\n",
    "import matplotlib.pyplot as plt\n",
    "import seaborn as sns\n",
    "inputfile0 = 'user_loss.csv'  # 客户信息数据文件\n",
    "inputfile1 = 'info_new.csv'  # 订单表数据文件\n",
    "outputfile = 'info_user.csv'  # 合并客户信息和订单表后的数据文件\n",
    "\n",
    "# 合并两个表\n",
    "# 读取数据\n",
    "user_loss = pd.read_csv(inputfile0, encoding='gbk')\n",
    "info_new = pd.read_csv(inputfile1) \n",
    "# 将时间转为时间格式\n",
    "user_loss['CREATED'] = pd.to_datetime(user_loss['CREATED'])\n",
    "info_new['use_start_time'] = pd.to_datetime(info_new['use_start_time'])\n",
    "info_new['lock_time'] = pd.to_datetime(info_new['lock_time'])\n",
    "\n",
    "# 匹配用户的最后一次用餐时间\n",
    "for i in range(len(user_loss)):\n",
    "    info1 = info_new.iloc[info_new[info_new['name']==user_loss.iloc[i,2]].index.tolist(),:]\n",
    "    if sum(info_new['name']==user_loss.iloc[i,2]) != 0:\n",
    "        user_loss.iloc[i,14]= max(info1['use_start_time'])\n",
    "\n",
    "# 筛选特征\n",
    "user = user_loss.iloc[:,[0,2,14,37]]\n",
    "# 提取有效订单\n",
    "info = info_new.loc[info_new['order_status'] == 1,['emp_id', 'number_consumers', 'expenditure']]  \n",
    "\n",
    "info = info.rename(columns = {'emp_id':'USER_ID'})  # 修改列名\n",
    "# 合并两个表\n",
    "info_user = pd.merge(user, info,left_on = 'USER_ID',right_on = 'USER_ID', how='left')\n",
    "info_user.to_csv(outputfile , index=False,sep=',')"
   ]
  },
  {
   "cell_type": "code",
   "execution_count": 10,
   "metadata": {},
   "outputs": [],
   "source": [
    "inputfile = 'info_user.csv'  # 合并客户信息和订单表后的数据文件\n",
    "outputfile = 'info_user_clear.csv'  # 客户流失特征数据文件\n",
    "# 构建特征\n",
    "info_user = pd.read_csv(inputfile , encoding='utf-8')\n",
    "\n",
    "# 提取info表的用户名和用餐时间，并按人名对用餐人数和金额进行分组求和\n",
    "info_user1 = info_user['USER_ID'].value_counts()  # 统计每个人的用餐次数\n",
    "info_user1 = info_user1.reset_index()\n",
    "info_user1.columns = ['USER_ID', 'frequence']  # 修改列名\n",
    "\n",
    "# 求出每个人的消费总金额\n",
    "info_user2 = info_user[['number_consumers', 'expenditure']].groupby(info_user['USER_ID']).sum()  # 分组求和\n",
    "info_user2 = info_user2.reset_index()\n",
    "info_user2.columns = ['USER_ID', 'numbers', 'amount']\n",
    "info_user_new = pd.merge(info_user1,info_user2,left_on='USER_ID', right_on='USER_ID', how='left')  # 合并两个表\n",
    "\n",
    "# 对合并后的数据进行处理\n",
    "info_user = info_user.iloc[:,:4]\n",
    "info_user = info_user.groupby(['USER_ID']).last()\n",
    "info_user = info_user.reset_index()\n",
    "info_user_new = pd.merge(info_user_new,info_user,left_on='USER_ID', right_on='USER_ID', how='left')  # 合并两个表\n",
    "\n",
    "# 去除空值\n",
    "info_user_new.isnull().sum().sum()  # 查看空值数目\n",
    "info_user_new = info_user_new.dropna(axis=0)\n",
    "info_user_new = info_user_new[info_user_new[\"numbers\"] != 0]  # 删除numbers为0的客户\n",
    "\n",
    "# 求平均消费金额，并保留2为小数\n",
    "info_user_new['average'] = info_user_new['amount']/info_user_new['numbers']\n",
    "info_user_new['average'] = info_user_new['average'].apply(lambda x: '%.2f'% x)\n",
    "\n",
    "# 计算每个客户最近一次点餐的时间距离观测窗口结束的天数\n",
    "# 修改时间列，改为日期\n",
    "\n",
    "info_user_new['LAST_VISITS'] = pd.to_datetime(info_user_new['LAST_VISITS'])\n",
    "datefinally = pd.to_datetime('2016-7-31')  # 观测窗口结束时间\n",
    "time = datefinally - info_user_new['LAST_VISITS']\n",
    "info_user_new['recently'] = time.apply(lambda x: x.days)   # 计算时间差\n",
    "\n",
    "info_user_new = info_user_new.loc[:,['USER_ID', 'ACCOUNT', 'frequence', 'amount', 'average','recently', 'type']]  # 筛选属性\n",
    "info_user_new.to_csv(outputfile , index=False, encoding='gbk')"
   ]
  },
  {
   "cell_type": "code",
   "execution_count": 11,
   "metadata": {},
   "outputs": [],
   "source": [
    "# 划分测试集、训练集\n",
    "info_user = pd.read_csv('info_user_clear.csv', encoding='gbk')\n",
    "from sklearn.preprocessing import LabelEncoder\n",
    "\n",
    "# 创建LabelEncoder实例\n",
    "le = LabelEncoder()\n",
    "\n",
    "# 对'流失状态'列进行编码，将\"流失\"映射为1，\"非流失\"映射为2，准流失为0\n",
    "info_user['type'] = le.fit_transform(info_user['type'])\n",
    "# 删除流失用户\n",
    "info_user = info_user[info_user['type'] != '1']\n",
    "\n",
    "model_data = info_user.iloc[:,[2,3,4,5,6]]\n",
    "\n",
    "x_tr, x_te, y_tr, y_te = train_test_split(model_data.iloc[:,:-1], model_data['type'], test_size=0.2, random_state=12345)\n",
    "\n"
   ]
  },
  {
   "cell_type": "code",
   "execution_count": 15,
   "metadata": {},
   "outputs": [
    {
     "name": "stdout",
     "output_type": "stream",
     "text": [
      "Accuracy: 0.8364779874213837\n",
      "              precision    recall  f1-score   support\n",
      "\n",
      "         准流失       0.82      0.82      0.82       218\n",
      "         已流失       0.74      0.74      0.74        99\n",
      "         非流失       0.91      0.92      0.92       160\n",
      "\n",
      "    accuracy                           0.84       477\n",
      "   macro avg       0.83      0.83      0.83       477\n",
      "weighted avg       0.84      0.84      0.84       477\n",
      "\n",
      "[[179  25  14]\n",
      " [ 26  73   0]\n",
      " [ 12   1 147]]\n"
     ]
    }
   ],
   "source": [
    "dtc = DTC()  # 初始化决策树对象，基于信息熵\n",
    "dtc.fit(x_tr,y_tr)  # 训练模型\n",
    "pre = dtc.predict(x_te)\n",
    "accuracy = accuracy_score(y_te, pre)\n",
    "report = classification_report(y_te, pre, target_names=le.classes_)\n",
    "conf_matrix = confusion_matrix(y_te, pre)\n",
    "print(f\"Accuracy: {accuracy}\")\n",
    "print(report)\n",
    "print(conf_matrix)\n"
   ]
  },
  {
   "cell_type": "code",
   "execution_count": 49,
   "metadata": {},
   "outputs": [
    {
     "name": "stdout",
     "output_type": "stream",
     "text": [
      "Accuracy: 0.8511530398322851\n",
      "              precision    recall  f1-score   support\n",
      "\n",
      "         准流失       0.81      0.88      0.84       218\n",
      "         已流失       0.81      0.71      0.76        99\n",
      "         非流失       0.94      0.90      0.92       160\n",
      "\n",
      "    accuracy                           0.85       477\n",
      "   macro avg       0.85      0.83      0.84       477\n",
      "weighted avg       0.85      0.85      0.85       477\n",
      "\n",
      "[[192  16  10]\n",
      " [ 29  70   0]\n",
      " [ 16   0 144]]\n"
     ]
    }
   ],
   "source": [
    "from sklearn.ensemble import RandomForestClassifier\n",
    "from sklearn.metrics import mean_squared_error, r2_score\n",
    "random_forest_model = RandomForestClassifier(n_estimators=3, random_state=42)\n",
    "random_forest_model.fit(x_tr,y_tr)\n",
    "pre2 = random_forest_model.predict(x_te)\n",
    "accuracy = accuracy_score(y_te, pre2)\n",
    "report = classification_report(y_te, pre2, target_names=le.classes_)\n",
    "conf_matrix = confusion_matrix(y_te, pre2)\n",
    "print(f\"Accuracy: {accuracy}\")\n",
    "print(report)\n",
    "print(conf_matrix)\n"
   ]
  },
  {
   "cell_type": "code",
   "execution_count": 50,
   "metadata": {},
   "outputs": [
    {
     "name": "stdout",
     "output_type": "stream",
     "text": [
      "Accuracy: 0.8511530398322851\n",
      "              precision    recall  f1-score   support\n",
      "\n",
      "         准流失       0.64      0.96      0.77       218\n",
      "         已流失       0.00      0.00      0.00        99\n",
      "         非流失       0.94      0.89      0.91       160\n",
      "\n",
      "    accuracy                           0.74       477\n",
      "   macro avg       0.53      0.62      0.56       477\n",
      "weighted avg       0.61      0.74      0.66       477\n",
      "\n",
      "[[209   0   9]\n",
      " [ 99   0   0]\n",
      " [ 18   0 142]]\n"
     ]
    },
    {
     "name": "stderr",
     "output_type": "stream",
     "text": [
      "c:\\ProgramData\\Anaconda3\\lib\\site-packages\\sklearn\\metrics\\_classification.py:1245: UndefinedMetricWarning: Precision and F-score are ill-defined and being set to 0.0 in labels with no predicted samples. Use `zero_division` parameter to control this behavior.\n",
      "  _warn_prf(average, modifier, msg_start, len(result))\n",
      "c:\\ProgramData\\Anaconda3\\lib\\site-packages\\sklearn\\metrics\\_classification.py:1245: UndefinedMetricWarning: Precision and F-score are ill-defined and being set to 0.0 in labels with no predicted samples. Use `zero_division` parameter to control this behavior.\n",
      "  _warn_prf(average, modifier, msg_start, len(result))\n",
      "c:\\ProgramData\\Anaconda3\\lib\\site-packages\\sklearn\\metrics\\_classification.py:1245: UndefinedMetricWarning: Precision and F-score are ill-defined and being set to 0.0 in labels with no predicted samples. Use `zero_division` parameter to control this behavior.\n",
      "  _warn_prf(average, modifier, msg_start, len(result))\n"
     ]
    }
   ],
   "source": [
    "from sklearn.svm import SVC\n",
    "\n",
    "svc=SVC(random_state=42)\n",
    "svc.fit(x_tr,y_tr)\n",
    "pre3 = svc.predict(x_te)\n",
    "report = classification_report(y_te, pre3, target_names=le.classes_)\n",
    "conf_matrix = confusion_matrix(y_te, pre3)\n",
    "print(f\"Accuracy: {accuracy}\")\n",
    "print(report)\n",
    "print(conf_matrix)"
   ]
  },
  {
   "cell_type": "code",
   "execution_count": null,
   "metadata": {},
   "outputs": [],
   "source": []
  },
  {
   "cell_type": "code",
   "execution_count": 51,
   "metadata": {},
   "outputs": [
    {
     "name": "stdout",
     "output_type": "stream",
     "text": [
      "Accuracy: 0.8511530398322851\n",
      "              precision    recall  f1-score   support\n",
      "\n",
      "         准流失       0.81      0.86      0.84       218\n",
      "         已流失       0.80      0.69      0.74        99\n",
      "         非流失       0.92      0.92      0.92       160\n",
      "\n",
      "    accuracy                           0.84       477\n",
      "   macro avg       0.84      0.82      0.83       477\n",
      "weighted avg       0.84      0.84      0.84       477\n",
      "\n",
      "[[188  17  13]\n",
      " [ 31  68   0]\n",
      " [ 13   0 147]]\n"
     ]
    }
   ],
   "source": [
    "from sklearn.neighbors import KNeighborsClassifier\n",
    "\n",
    "\n",
    "knn = KNeighborsClassifier(n_neighbors=5, weights='uniform', algorithm='auto')\n",
    "knn.fit(x_tr,y_tr)\n",
    "pre4 = knn.predict(x_te)\n",
    "report = classification_report(y_te, pre4, target_names=le.classes_)\n",
    "conf_matrix = confusion_matrix(y_te, pre4)\n",
    "print(f\"Accuracy: {accuracy}\")\n",
    "print(report)\n",
    "print(conf_matrix)"
   ]
  }
 ],
 "metadata": {
  "kernelspec": {
   "display_name": "Python 3",
   "language": "python",
   "name": "python3"
  },
  "language_info": {
   "codemirror_mode": {
    "name": "ipython",
    "version": 3
   },
   "file_extension": ".py",
   "mimetype": "text/x-python",
   "name": "python",
   "nbconvert_exporter": "python",
   "pygments_lexer": "ipython3",
   "version": "3.8.8"
  }
 },
 "nbformat": 4,
 "nbformat_minor": 4
}
